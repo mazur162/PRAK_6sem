{
 "cells": [
  {
   "cell_type": "markdown",
   "metadata": {},
   "source": [
    "# Мазур Анастасия Вадимовна, 316 группа ВМК МГУ\n",
    "## 10 APTV Aptiv Consumer Discretionary"
   ]
  },
  {
   "cell_type": "markdown",
   "metadata": {},
   "source": [
    "**Задание:**"
   ]
  },
  {
   "cell_type": "markdown",
   "metadata": {},
   "source": [
    "Далее на R или Python\n",
    "\n",
    "- ✅ Получить данные цен закрытия своего варианта\n",
    "- ✅ Перейти к доходностям по формуле\n",
    "$$r_{t} = \\frac{S_{t}}{S_{t−1}} − 1$$\n",
    "  &emsp;&emsp;&emsp; Доходности сохраните в переменную `rates`\n",
    "- ✅ Проверить гипотезу случайности для доходностей. Сделать вывод: Отвергается или нет гипотеза случайности\n",
    "- ✅ Проверить гипотезу однородности для части данных доходностей до 1 июля 2022 года и последующих. Сделать вывод: Отвергается или нет гипотеза однородности двух частей выборки. \n",
    "- ✅ Предложить наиболее адекватный тип распределения для доходностей.   \n",
    "На R это можно сделать так: \n",
    "\n",
    "```\n",
    "        d = sort(sample(length(rates), length(rates)*.5))\n",
    "        head(d)\n",
    "        #select training sample\n",
    "        train<-rates[d,]\n",
    "        test<-rates[-d,]\n",
    "\n",
    "``` \n",
    "- ✅ Методом максимального правдоподобия оценить параметры предполагаемого распределения по тренировочной части выборки.\n",
    " На R для этого можно использовать функцию\n",
    "`fitdist(train,distr=\"chisq\",start=list(df=5))`\n",
    "- ✅ Проверить гипотезу согласия с предложенным распределением всей выборки критериями Колмогорова-Смирнова и Хи-квадрат Пирсона"
   ]
  },
  {
   "cell_type": "code",
   "execution_count": null,
   "metadata": {
    "vscode": {
     "languageId": "r"
    }
   },
   "outputs": [],
   "source": [
    "import pandas as pd\n",
    "\n",
    "! pip install yfinance # Импорт исторических цен закрытия проводятся из пакета yfinance\n",
    "import yfinance as yf\n",
    "\n",
    "import time\n",
    "\n",
    "import warnings\n",
    "warnings.filterwarnings(\"ignore\") # Выключаю преждупреждающие сообщения, чтобы не \"засорять\" вывод"
   ]
  },
  {
   "cell_type": "markdown",
   "metadata": {},
   "source": [
    "Зададим дату начала импорта 2022-01-01"
   ]
  },
  {
   "cell_type": "code",
   "execution_count": 2,
   "metadata": {
    "vscode": {
     "languageId": "r"
    }
   },
   "outputs": [],
   "source": [
    "start_day = '2022-01-01'"
   ]
  },
  {
   "cell_type": "markdown",
   "metadata": {},
   "source": [
    "Исторические ежедневные цены закрытия для одного тикера можно получить методом `get_One_Asset()`"
   ]
  },
  {
   "cell_type": "code",
   "execution_count": 3,
   "metadata": {
    "vscode": {
     "languageId": "r"
    }
   },
   "outputs": [],
   "source": [
    "def get_One_Asset(company,start_day):\n",
    "    df = pd.DataFrame()\n",
    "    returns = yf.Ticker(company)\n",
    "    data = returns.history(period = \"1y\", start = start_day)\n",
    "    df.index = data.index\n",
    "    df[company] = data.Close\n",
    "    return df"
   ]
  },
  {
   "cell_type": "markdown",
   "metadata": {},
   "source": [
    "Получим данные в переменную `asset` типа `pd.DataFrame()` и сохраним эти данные в csv файл для импорта в R"
   ]
  },
  {
   "cell_type": "code",
   "execution_count": 4,
   "metadata": {
    "vscode": {
     "languageId": "r"
    }
   },
   "outputs": [
    {
     "data": {
      "text/html": [
       "<div>\n",
       "<style scoped>\n",
       "    .dataframe tbody tr th:only-of-type {\n",
       "        vertical-align: middle;\n",
       "    }\n",
       "\n",
       "    .dataframe tbody tr th {\n",
       "        vertical-align: top;\n",
       "    }\n",
       "\n",
       "    .dataframe thead th {\n",
       "        text-align: right;\n",
       "    }\n",
       "</style>\n",
       "<table border=\"1\" class=\"dataframe\">\n",
       "  <thead>\n",
       "    <tr style=\"text-align: right;\">\n",
       "      <th></th>\n",
       "      <th>APTV</th>\n",
       "    </tr>\n",
       "    <tr>\n",
       "      <th>Date</th>\n",
       "      <th></th>\n",
       "    </tr>\n",
       "  </thead>\n",
       "  <tbody>\n",
       "    <tr>\n",
       "      <th>2022-01-03 00:00:00-05:00</th>\n",
       "      <td>166.029999</td>\n",
       "    </tr>\n",
       "    <tr>\n",
       "      <th>2022-01-04 00:00:00-05:00</th>\n",
       "      <td>172.210007</td>\n",
       "    </tr>\n",
       "    <tr>\n",
       "      <th>2022-01-05 00:00:00-05:00</th>\n",
       "      <td>168.279999</td>\n",
       "    </tr>\n",
       "    <tr>\n",
       "      <th>2022-01-06 00:00:00-05:00</th>\n",
       "      <td>174.119995</td>\n",
       "    </tr>\n",
       "    <tr>\n",
       "      <th>2022-01-07 00:00:00-05:00</th>\n",
       "      <td>169.470001</td>\n",
       "    </tr>\n",
       "  </tbody>\n",
       "</table>\n",
       "</div>"
      ],
      "text/plain": [
       "                                 APTV\n",
       "Date                                 \n",
       "2022-01-03 00:00:00-05:00  166.029999\n",
       "2022-01-04 00:00:00-05:00  172.210007\n",
       "2022-01-05 00:00:00-05:00  168.279999\n",
       "2022-01-06 00:00:00-05:00  174.119995\n",
       "2022-01-07 00:00:00-05:00  169.470001"
      ]
     },
     "execution_count": 4,
     "metadata": {},
     "output_type": "execute_result"
    }
   ],
   "source": [
    "company ='APTV'\n",
    "asset = get_One_Asset(company, start_day)\n",
    "asset.head()"
   ]
  },
  {
   "cell_type": "code",
   "execution_count": 5,
   "metadata": {
    "vscode": {
     "languageId": "r"
    }
   },
   "outputs": [],
   "source": [
    "filename = 'myData.csv'\n",
    "asset.to_csv(filename, index = True)"
   ]
  },
  {
   "cell_type": "code",
   "execution_count": 6,
   "metadata": {
    "vscode": {
     "languageId": "r"
    }
   },
   "outputs": [
    {
     "data": {
      "text/html": [
       "<div>\n",
       "<style scoped>\n",
       "    .dataframe tbody tr th:only-of-type {\n",
       "        vertical-align: middle;\n",
       "    }\n",
       "\n",
       "    .dataframe tbody tr th {\n",
       "        vertical-align: top;\n",
       "    }\n",
       "\n",
       "    .dataframe thead th {\n",
       "        text-align: right;\n",
       "    }\n",
       "</style>\n",
       "<table border=\"1\" class=\"dataframe\">\n",
       "  <thead>\n",
       "    <tr style=\"text-align: right;\">\n",
       "      <th></th>\n",
       "      <th>APTV</th>\n",
       "      <th>rates</th>\n",
       "    </tr>\n",
       "    <tr>\n",
       "      <th>Date</th>\n",
       "      <th></th>\n",
       "      <th></th>\n",
       "    </tr>\n",
       "  </thead>\n",
       "  <tbody>\n",
       "    <tr>\n",
       "      <th>2022-01-03 00:00:00-05:00</th>\n",
       "      <td>166.029999</td>\n",
       "      <td>0.000000</td>\n",
       "    </tr>\n",
       "    <tr>\n",
       "      <th>2022-01-04 00:00:00-05:00</th>\n",
       "      <td>172.210007</td>\n",
       "      <td>0.037222</td>\n",
       "    </tr>\n",
       "    <tr>\n",
       "      <th>2022-01-05 00:00:00-05:00</th>\n",
       "      <td>168.279999</td>\n",
       "      <td>-0.022821</td>\n",
       "    </tr>\n",
       "    <tr>\n",
       "      <th>2022-01-06 00:00:00-05:00</th>\n",
       "      <td>174.119995</td>\n",
       "      <td>0.034704</td>\n",
       "    </tr>\n",
       "    <tr>\n",
       "      <th>2022-01-07 00:00:00-05:00</th>\n",
       "      <td>169.470001</td>\n",
       "      <td>-0.026706</td>\n",
       "    </tr>\n",
       "  </tbody>\n",
       "</table>\n",
       "</div>"
      ],
      "text/plain": [
       "                                 APTV     rates\n",
       "Date                                           \n",
       "2022-01-03 00:00:00-05:00  166.029999  0.000000\n",
       "2022-01-04 00:00:00-05:00  172.210007  0.037222\n",
       "2022-01-05 00:00:00-05:00  168.279999 -0.022821\n",
       "2022-01-06 00:00:00-05:00  174.119995  0.034704\n",
       "2022-01-07 00:00:00-05:00  169.470001 -0.026706"
      ]
     },
     "execution_count": 6,
     "metadata": {},
     "output_type": "execute_result"
    }
   ],
   "source": [
    "asset['rates'] = 0\n",
    "for t in range (1, len(asset.APTV)):\n",
    "    asset['rates'][t] = (asset.APTV[t] / asset.APTV[t - 1]) - 1\n",
    "    \n",
    "asset.to_csv('myData.csv', index = True)\n",
    "asset.head()"
   ]
  },
  {
   "cell_type": "markdown",
   "metadata": {},
   "source": [
    "Далее код на R:"
   ]
  },
  {
   "cell_type": "code",
   "execution_count": null,
   "metadata": {
    "vscode": {
     "languageId": "r"
    }
   },
   "outputs": [],
   "source": [
    "# Выключаю вывод предупреждающих сообщений warning\n",
    "oldw <- getOption(\"warn\")\n",
    "options(warn = -1)\n",
    "\n",
    "# Подгружаю все необходимые библиотеки\n",
    "library(randtests)\n",
    "library(dplyr)\n",
    "library(rriskDistributions)\n",
    "library(fitdistrplus)\n",
    "require(MASS)\n",
    "library(LambertW)\n",
    "library(ggplot2)\n",
    "library(vcd)\n",
    "library(zoo)"
   ]
  },
  {
   "cell_type": "markdown",
   "metadata": {},
   "source": [
    "Выгружаю доходности в отдельную переменную"
   ]
  },
  {
   "cell_type": "code",
   "execution_count": 4,
   "metadata": {
    "vscode": {
     "languageId": "r"
    }
   },
   "outputs": [
    {
     "data": {
      "text/html": [
       "<table class=\"dataframe\">\n",
       "<caption>A data.frame: 6 × 1</caption>\n",
       "<thead>\n",
       "\t<tr><th></th><th scope=col>rates</th></tr>\n",
       "\t<tr><th></th><th scope=col>&lt;dbl&gt;</th></tr>\n",
       "</thead>\n",
       "<tbody>\n",
       "\t<tr><th scope=row>1</th><td> 0.00000000</td></tr>\n",
       "\t<tr><th scope=row>2</th><td> 0.03722224</td></tr>\n",
       "\t<tr><th scope=row>3</th><td>-0.02282102</td></tr>\n",
       "\t<tr><th scope=row>4</th><td> 0.03470404</td></tr>\n",
       "\t<tr><th scope=row>5</th><td>-0.02670569</td></tr>\n",
       "\t<tr><th scope=row>6</th><td>-0.02596326</td></tr>\n",
       "</tbody>\n",
       "</table>\n"
      ],
      "text/latex": [
       "A data.frame: 6 × 1\n",
       "\\begin{tabular}{r|l}\n",
       "  & rates\\\\\n",
       "  & <dbl>\\\\\n",
       "\\hline\n",
       "\t1 &  0.00000000\\\\\n",
       "\t2 &  0.03722224\\\\\n",
       "\t3 & -0.02282102\\\\\n",
       "\t4 &  0.03470404\\\\\n",
       "\t5 & -0.02670569\\\\\n",
       "\t6 & -0.02596326\\\\\n",
       "\\end{tabular}\n"
      ],
      "text/markdown": [
       "\n",
       "A data.frame: 6 × 1\n",
       "\n",
       "| <!--/--> | rates &lt;dbl&gt; |\n",
       "|---|---|\n",
       "| 1 |  0.00000000 |\n",
       "| 2 |  0.03722224 |\n",
       "| 3 | -0.02282102 |\n",
       "| 4 |  0.03470404 |\n",
       "| 5 | -0.02670569 |\n",
       "| 6 | -0.02596326 |\n",
       "\n"
      ],
      "text/plain": [
       "  rates      \n",
       "1  0.00000000\n",
       "2  0.03722224\n",
       "3 -0.02282102\n",
       "4  0.03470404\n",
       "5 -0.02670569\n",
       "6 -0.02596326"
      ]
     },
     "metadata": {},
     "output_type": "display_data"
    }
   ],
   "source": [
    "my_data <- read.csv(file = \"./myData.csv\", header = TRUE)\n",
    "rates <- my_data$rates\n",
    "rates_df <- data.frame(rates)\n",
    "head(rates_df)"
   ]
  },
  {
   "cell_type": "markdown",
   "metadata": {},
   "source": [
    "Посмотрим, как выглядят данные по доходностям. Для этого построим точечный график и гистограмму."
   ]
  },
  {
   "cell_type": "code",
   "execution_count": 34,
   "metadata": {
    "vscode": {
     "languageId": "r"
    }
   },
   "outputs": [
    {
     "data": {
      "image/png": "[encoded data removed]",
      "text/plain": [
       "plot without title"
      ]
     },
     "metadata": {
      "image/png": {
       "height": 420,
       "width": 420
      }
     },
     "output_type": "display_data"
    }
   ],
   "source": [
    "dotchart(rates, bg = \"#6852A3\")"
   ]
  },
  {
   "cell_type": "code",
   "execution_count": 33,
   "metadata": {
    "vscode": {
     "languageId": "r"
    }
   },
   "outputs": [
    {
     "data": {
      "image/png": "[encoded data removed]",
      "text/plain": [
       "Plot with title “Histogram of rates”"
      ]
     },
     "metadata": {
      "image/png": {
       "height": 420,
       "width": 420
      }
     },
     "output_type": "display_data"
    }
   ],
   "source": [
    "hist(rates, col = \"#6852A3\")"
   ]
  },
  {
   "cell_type": "markdown",
   "metadata": {},
   "source": [
    "<h2>\n",
    "<span style=\"color:#6852A3\">\n",
    "Гипотеза случайности\n",
    "</span>\n",
    "</h2>"
   ]
  },
  {
   "cell_type": "markdown",
   "metadata": {},
   "source": [
    "Проверим гипотезу случайности для доходностей.  \n",
    "**Нулевая гипотеза** $H_0$: выборка доходностей является выборкой из независимых наблюдений над некоторой случайной величиной $\\xi$\n",
    "**Альтернативная гипотеза** $H_1$: элементы выборки не являются случайными величинами, то есть они не являются независимыми и не распределены одинаково  \n",
    "    \n",
    "Для этого проведём несколько тестов. Уровень статистической значимости: $p\\_value = 5 \\% = 0.05$"
   ]
  },
  {
   "cell_type": "markdown",
   "metadata": {},
   "source": [
    "#### 1. Тест Манна-Кендалла"
   ]
  },
  {
   "cell_type": "markdown",
   "metadata": {},
   "source": [
    "**Тест тренда Манна-Кендалла** используется для определения того, существует ли тренд в данных временного ряда. Это непараметрический тест, означающий, что не делается никаких предположений о нормальности данных.\n",
    "\n",
    "Гипотезы для теста следующие:  \n",
    "**Нулевая гипотеза** $H_0$: в данных отсутствует тренд (т.е. данные распределены нормально)  \n",
    "**Альтернативная гипотеза** $H_1$: в данных присутствует тенденция (Это может быть как положительная, так и отрицательная тенденция)"
   ]
  },
  {
   "cell_type": "code",
   "execution_count": 6,
   "metadata": {
    "vscode": {
     "languageId": "r"
    }
   },
   "outputs": [
    {
     "data": {
      "text/plain": [
       "\n",
       "\tMann-Kendall Rank Test\n",
       "\n",
       "data:  rates\n",
       "statistic = 1.5563, n = 288, p-value = 0.1196\n",
       "alternative hypothesis: trend\n"
      ]
     },
     "metadata": {},
     "output_type": "display_data"
    }
   ],
   "source": [
    "rank.test(rates)"
   ]
  },
  {
   "cell_type": "markdown",
   "metadata": {},
   "source": [
    "Данный тест показал значение $p\\_value > 0.05 \\Rightarrow $ в данных отсутствует тренд, то есть гипотеза случайности не отвергается."
   ]
  },
  {
   "cell_type": "markdown",
   "metadata": {},
   "source": [
    "#### 2. Тест Бартлетта"
   ]
  },
  {
   "cell_type": "markdown",
   "metadata": {},
   "source": [
    "Тест Бартлетта — это статистический тест, который используется для определения того, равны ли дисперсии между несколькими группами (выборками). \n",
    "  \n",
    "Тест Бартлетта использует следующие нулевые и альтернативные гипотезы :\n",
    "\n",
    "**Нулевая гипотеза** $H_0$: Дисперсия среди каждой группы равна  \n",
    "**Альтернативная гипотеза** $H_1$: По крайней мере, одна группа имеет дисперсию, не равную остальным"
   ]
  },
  {
   "cell_type": "code",
   "execution_count": 7,
   "metadata": {
    "vscode": {
     "languageId": "r"
    }
   },
   "outputs": [
    {
     "data": {
      "text/plain": [
       "\n",
       "\tBartels Ratio Test\n",
       "\n",
       "data:  rates\n",
       "statistic = -0.30662, n = 288, p-value = 0.7591\n",
       "alternative hypothesis: nonrandomness\n"
      ]
     },
     "metadata": {},
     "output_type": "display_data"
    }
   ],
   "source": [
    "bartels.rank.test(rates)"
   ]
  },
  {
   "cell_type": "markdown",
   "metadata": {},
   "source": [
    "Данный тест показал значение $p\\_value > 0.05 \\Rightarrow $ в данных доходностей дисперсии одинаковы для каждой подвыборки, то есть гипотеза случайности не отвергается."
   ]
  },
  {
   "cell_type": "markdown",
   "metadata": {},
   "source": [
    "#### 3. Тест случайности Кокса Стюарта"
   ]
  },
  {
   "cell_type": "markdown",
   "metadata": {},
   "source": [
    "Так же как и тест Манна-Кендалла данный критерий используется для проверки наличия тренда среднего и дисперсии в последовательности наблюдений. "
   ]
  },
  {
   "cell_type": "code",
   "execution_count": 30,
   "metadata": {
    "vscode": {
     "languageId": "r"
    }
   },
   "outputs": [
    {
     "data": {
      "text/plain": [
       "\n",
       "\tCox Stuart test\n",
       "\n",
       "data:  rates\n",
       "statistic = 74, n = 144, p-value = 0.8027\n",
       "alternative hypothesis: non randomness\n"
      ]
     },
     "metadata": {},
     "output_type": "display_data"
    }
   ],
   "source": [
    "cox.stuart.test(rates)"
   ]
  },
  {
   "cell_type": "markdown",
   "metadata": {},
   "source": [
    "Данный тест показал значение $p\\_value > 0.05 \\Rightarrow $ в данных отсутствует тренд, то есть гипотеза случайности не отвергается."
   ]
  },
  {
   "cell_type": "markdown",
   "metadata": {},
   "source": [
    "#### 4. Runs test"
   ]
  },
  {
   "cell_type": "markdown",
   "metadata": {},
   "source": [
    "Runs test - это статистический тест, который используется для определения того, получен ли набор данных в результате случайного процесса.\n",
    "\n",
    "Нулевая и альтернативные гипотезы теста заключаются в следующем:\n",
    "\n",
    "**Нулевая гипотеза** $H_0$: Данные были получены случайным образом  \n",
    "**Альтернативная гипотеза** $H_1$: Данные не были получены случайным образом"
   ]
  },
  {
   "cell_type": "code",
   "execution_count": 31,
   "metadata": {
    "vscode": {
     "languageId": "r"
    }
   },
   "outputs": [
    {
     "data": {
      "text/plain": [
       "\n",
       "\tRuns Test\n",
       "\n",
       "data:  rates\n",
       "statistic = 0.35417, runs = 148, n1 = 144, n2 = 144, n = 288, p-value =\n",
       "0.7232\n",
       "alternative hypothesis: nonrandomness\n"
      ]
     },
     "metadata": {},
     "output_type": "display_data"
    }
   ],
   "source": [
    "runs.test(rates)"
   ]
  },
  {
   "cell_type": "markdown",
   "metadata": {},
   "source": [
    "Данный тест показал значение $p\\_value > 0.05 \\Rightarrow $ нулевая гипотеза о случайности данных не отвергается."
   ]
  },
  {
   "cell_type": "markdown",
   "metadata": {},
   "source": [
    "#### 5. Turning Point Test"
   ]
  },
  {
   "cell_type": "markdown",
   "metadata": {},
   "source": [
    "Ещё один тест для проверки случайности данных."
   ]
  },
  {
   "cell_type": "code",
   "execution_count": 32,
   "metadata": {
    "vscode": {
     "languageId": "r"
    }
   },
   "outputs": [
    {
     "data": {
      "text/plain": [
       "\n",
       "\tTurning Point Test\n",
       "\n",
       "data:  rates\n",
       "statistic = 0.88791, n = 288, p-value = 0.3746\n",
       "alternative hypothesis: non randomness\n"
      ]
     },
     "metadata": {},
     "output_type": "display_data"
    }
   ],
   "source": [
    "turning.point.test(rates)"
   ]
  },
  {
   "cell_type": "markdown",
   "metadata": {},
   "source": [
    "Данный тест показал значение $p\\_value > 0.05 \\Rightarrow $ гипотеза случайности не отвергается."
   ]
  },
  {
   "cell_type": "markdown",
   "metadata": {},
   "source": [
    "#### Вывод:\n",
    "Все тесты единогласно говорят о том, что данные о доходностях распределены случайно, тренд отсутствует, дисперсия одинакова для всех групп."
   ]
  },
  {
   "cell_type": "markdown",
   "metadata": {},
   "source": [
    "<h2>\n",
    "<span style=\"color:#6852A3\">\n",
    "Гипотеза однородности\n",
    "</span>\n",
    "</h2>"
   ]
  },
  {
   "cell_type": "markdown",
   "metadata": {},
   "source": [
    "Проверим однородность данных для части данных доходностей до 1 июля 2022 года и последующих.  \n",
    "\n",
    "**Нулевая гипотеза** $H_0$: В качестве основной гипотезы выдвинем предположение об идентичности функций распределения для двух выборок  \n",
    "**Альтернативная гипотеза** $H_1$: данные в двух выборках распределены не идентично\n",
    "    \n",
    "Уровень статистической значимости: $p\\_value = 5 \\% = 0.05$\n",
    "\n",
    "Для этого проведём несколько тестов. "
   ]
  },
  {
   "cell_type": "markdown",
   "metadata": {},
   "source": [
    "Сначала сформируем две выборки:"
   ]
  },
  {
   "cell_type": "code",
   "execution_count": 37,
   "metadata": {
    "vscode": {
     "languageId": "r"
    }
   },
   "outputs": [
    {
     "data": {
      "text/html": [
       "<table class=\"dataframe\">\n",
       "<caption>A data.frame: 6 × 3</caption>\n",
       "<thead>\n",
       "\t<tr><th></th><th scope=col>Date</th><th scope=col>APTV</th><th scope=col>rates</th></tr>\n",
       "\t<tr><th></th><th scope=col>&lt;chr&gt;</th><th scope=col>&lt;dbl&gt;</th><th scope=col>&lt;dbl&gt;</th></tr>\n",
       "</thead>\n",
       "<tbody>\n",
       "\t<tr><th scope=row>119</th><td>2022-06-23 00:00:00-04:00</td><td>92.14</td><td> 0.012972739</td></tr>\n",
       "\t<tr><th scope=row>120</th><td>2022-06-24 00:00:00-04:00</td><td>97.09</td><td> 0.053722563</td></tr>\n",
       "\t<tr><th scope=row>121</th><td>2022-06-27 00:00:00-04:00</td><td>97.50</td><td> 0.004222924</td></tr>\n",
       "\t<tr><th scope=row>122</th><td>2022-06-28 00:00:00-04:00</td><td>95.61</td><td>-0.019384609</td></tr>\n",
       "\t<tr><th scope=row>123</th><td>2022-06-29 00:00:00-04:00</td><td>92.77</td><td>-0.029704047</td></tr>\n",
       "\t<tr><th scope=row>124</th><td>2022-06-30 00:00:00-04:00</td><td>89.07</td><td>-0.039883552</td></tr>\n",
       "</tbody>\n",
       "</table>\n"
      ],
      "text/latex": [
       "A data.frame: 6 × 3\n",
       "\\begin{tabular}{r|lll}\n",
       "  & Date & APTV & rates\\\\\n",
       "  & <chr> & <dbl> & <dbl>\\\\\n",
       "\\hline\n",
       "\t119 & 2022-06-23 00:00:00-04:00 & 92.14 &  0.012972739\\\\\n",
       "\t120 & 2022-06-24 00:00:00-04:00 & 97.09 &  0.053722563\\\\\n",
       "\t121 & 2022-06-27 00:00:00-04:00 & 97.50 &  0.004222924\\\\\n",
       "\t122 & 2022-06-28 00:00:00-04:00 & 95.61 & -0.019384609\\\\\n",
       "\t123 & 2022-06-29 00:00:00-04:00 & 92.77 & -0.029704047\\\\\n",
       "\t124 & 2022-06-30 00:00:00-04:00 & 89.07 & -0.039883552\\\\\n",
       "\\end{tabular}\n"
      ],
      "text/markdown": [
       "\n",
       "A data.frame: 6 × 3\n",
       "\n",
       "| <!--/--> | Date &lt;chr&gt; | APTV &lt;dbl&gt; | rates &lt;dbl&gt; |\n",
       "|---|---|---|---|\n",
       "| 119 | 2022-06-23 00:00:00-04:00 | 92.14 |  0.012972739 |\n",
       "| 120 | 2022-06-24 00:00:00-04:00 | 97.09 |  0.053722563 |\n",
       "| 121 | 2022-06-27 00:00:00-04:00 | 97.50 |  0.004222924 |\n",
       "| 122 | 2022-06-28 00:00:00-04:00 | 95.61 | -0.019384609 |\n",
       "| 123 | 2022-06-29 00:00:00-04:00 | 92.77 | -0.029704047 |\n",
       "| 124 | 2022-06-30 00:00:00-04:00 | 89.07 | -0.039883552 |\n",
       "\n"
      ],
      "text/plain": [
       "    Date                      APTV  rates       \n",
       "119 2022-06-23 00:00:00-04:00 92.14  0.012972739\n",
       "120 2022-06-24 00:00:00-04:00 97.09  0.053722563\n",
       "121 2022-06-27 00:00:00-04:00 97.50  0.004222924\n",
       "122 2022-06-28 00:00:00-04:00 95.61 -0.019384609\n",
       "123 2022-06-29 00:00:00-04:00 92.77 -0.029704047\n",
       "124 2022-06-30 00:00:00-04:00 89.07 -0.039883552"
      ]
     },
     "metadata": {},
     "output_type": "display_data"
    },
    {
     "data": {
      "text/html": [
       "<table class=\"dataframe\">\n",
       "<caption>A data.frame: 6 × 3</caption>\n",
       "<thead>\n",
       "\t<tr><th></th><th scope=col>Date</th><th scope=col>APTV</th><th scope=col>rates</th></tr>\n",
       "\t<tr><th></th><th scope=col>&lt;chr&gt;</th><th scope=col>&lt;dbl&gt;</th><th scope=col>&lt;dbl&gt;</th></tr>\n",
       "</thead>\n",
       "<tbody>\n",
       "\t<tr><th scope=row>125</th><td>2022-07-01 00:00:00-04:00</td><td>91.45</td><td> 0.026720526</td></tr>\n",
       "\t<tr><th scope=row>126</th><td>2022-07-05 00:00:00-04:00</td><td>90.63</td><td>-0.008966645</td></tr>\n",
       "\t<tr><th scope=row>127</th><td>2022-07-06 00:00:00-04:00</td><td>87.54</td><td>-0.034094631</td></tr>\n",
       "\t<tr><th scope=row>128</th><td>2022-07-07 00:00:00-04:00</td><td>92.70</td><td> 0.058944437</td></tr>\n",
       "\t<tr><th scope=row>129</th><td>2022-07-08 00:00:00-04:00</td><td>92.46</td><td>-0.002588974</td></tr>\n",
       "\t<tr><th scope=row>130</th><td>2022-07-11 00:00:00-04:00</td><td>87.51</td><td>-0.053536632</td></tr>\n",
       "</tbody>\n",
       "</table>\n"
      ],
      "text/latex": [
       "A data.frame: 6 × 3\n",
       "\\begin{tabular}{r|lll}\n",
       "  & Date & APTV & rates\\\\\n",
       "  & <chr> & <dbl> & <dbl>\\\\\n",
       "\\hline\n",
       "\t125 & 2022-07-01 00:00:00-04:00 & 91.45 &  0.026720526\\\\\n",
       "\t126 & 2022-07-05 00:00:00-04:00 & 90.63 & -0.008966645\\\\\n",
       "\t127 & 2022-07-06 00:00:00-04:00 & 87.54 & -0.034094631\\\\\n",
       "\t128 & 2022-07-07 00:00:00-04:00 & 92.70 &  0.058944437\\\\\n",
       "\t129 & 2022-07-08 00:00:00-04:00 & 92.46 & -0.002588974\\\\\n",
       "\t130 & 2022-07-11 00:00:00-04:00 & 87.51 & -0.053536632\\\\\n",
       "\\end{tabular}\n"
      ],
      "text/markdown": [
       "\n",
       "A data.frame: 6 × 3\n",
       "\n",
       "| <!--/--> | Date &lt;chr&gt; | APTV &lt;dbl&gt; | rates &lt;dbl&gt; |\n",
       "|---|---|---|---|\n",
       "| 125 | 2022-07-01 00:00:00-04:00 | 91.45 |  0.026720526 |\n",
       "| 126 | 2022-07-05 00:00:00-04:00 | 90.63 | -0.008966645 |\n",
       "| 127 | 2022-07-06 00:00:00-04:00 | 87.54 | -0.034094631 |\n",
       "| 128 | 2022-07-07 00:00:00-04:00 | 92.70 |  0.058944437 |\n",
       "| 129 | 2022-07-08 00:00:00-04:00 | 92.46 | -0.002588974 |\n",
       "| 130 | 2022-07-11 00:00:00-04:00 | 87.51 | -0.053536632 |\n",
       "\n"
      ],
      "text/plain": [
       "    Date                      APTV  rates       \n",
       "125 2022-07-01 00:00:00-04:00 91.45  0.026720526\n",
       "126 2022-07-05 00:00:00-04:00 90.63 -0.008966645\n",
       "127 2022-07-06 00:00:00-04:00 87.54 -0.034094631\n",
       "128 2022-07-07 00:00:00-04:00 92.70  0.058944437\n",
       "129 2022-07-08 00:00:00-04:00 92.46 -0.002588974\n",
       "130 2022-07-11 00:00:00-04:00 87.51 -0.053536632"
      ]
     },
     "metadata": {},
     "output_type": "display_data"
    }
   ],
   "source": [
    "sample1 = my_data[my_data[\"Date\"] < '2022-07-01',]\n",
    "sample2 = my_data[my_data[\"Date\"] >= '2022-07-01',]\n",
    "\n",
    "tail(sample1)\n",
    "head(sample2)"
   ]
  },
  {
   "cell_type": "markdown",
   "metadata": {},
   "source": [
    "Итак, выборки сформированы верно. Видно, что в первой содержатся все записи до 1 июля, а во второй - записи после этой даты.\n",
    "Однако мы можем видеть, что количество значений в этих таблицах разное: в первой выборке 124 элемента, во второй - 164.  \n",
    "Для корректной работы тестов выбросим некоторые данные из второй таблицы, чтобы размеры выборок были одинаковыми."
   ]
  },
  {
   "cell_type": "code",
   "execution_count": 42,
   "metadata": {
    "vscode": {
     "languageId": "r"
    }
   },
   "outputs": [
    {
     "data": {
      "text/html": [
       "124"
      ],
      "text/latex": [
       "124"
      ],
      "text/markdown": [
       "124"
      ],
      "text/plain": [
       "[1] 124"
      ]
     },
     "metadata": {},
     "output_type": "display_data"
    },
    {
     "data": {
      "text/html": [
       "164"
      ],
      "text/latex": [
       "164"
      ],
      "text/markdown": [
       "164"
      ],
      "text/plain": [
       "[1] 164"
      ]
     },
     "metadata": {},
     "output_type": "display_data"
    }
   ],
   "source": [
    "nrow(sample1)\n",
    "nrow(sample2)"
   ]
  },
  {
   "cell_type": "code",
   "execution_count": 43,
   "metadata": {
    "vscode": {
     "languageId": "r"
    }
   },
   "outputs": [],
   "source": [
    "size = min(nrow(sample1), nrow(sample2))\n",
    "\n",
    "ssample1 <- head(sample1$APTV, size)\n",
    "ssample2 <- head(sample2$APTV, size)\n",
    "\n",
    "sample1_vec <- as.vector(ssample1)\n",
    "sample2_vec <- as.vector(ssample2)"
   ]
  },
  {
   "cell_type": "markdown",
   "metadata": {},
   "source": [
    "Данные записаны в переменные в качестве векторов одинаковой длины. Теперь мы можем проводить тесты."
   ]
  },
  {
   "cell_type": "markdown",
   "metadata": {},
   "source": [
    "#### 1. Критерий Уилкоксона"
   ]
  },
  {
   "cell_type": "code",
   "execution_count": 36,
   "metadata": {
    "vscode": {
     "languageId": "r"
    }
   },
   "outputs": [
    {
     "data": {
      "text/plain": [
       "\n",
       "\tWilcoxon signed rank test with continuity correction\n",
       "\n",
       "data:  sample1_vec and sample2_vec\n",
       "V = 7198, p-value < 2.2e-16\n",
       "alternative hypothesis: true location shift is not equal to 0\n"
      ]
     },
     "metadata": {},
     "output_type": "display_data"
    }
   ],
   "source": [
    "wilcox.test(sample1_vec, sample2_vec, paired = T)"
   ]
  },
  {
   "cell_type": "markdown",
   "metadata": {},
   "source": [
    "Данный тест показал значение $p\\_value < 0.05 \\Rightarrow $ гипотеза однородности отвергается."
   ]
  },
  {
   "cell_type": "markdown",
   "metadata": {},
   "source": [
    "#### 2. Критерий Смирнова"
   ]
  },
  {
   "cell_type": "code",
   "execution_count": 45,
   "metadata": {
    "vscode": {
     "languageId": "r"
    }
   },
   "outputs": [
    {
     "data": {
      "text/plain": [
       "\n",
       "\tAsymptotic two-sample Kolmogorov-Smirnov test\n",
       "\n",
       "data:  sample1_vec and sample2_vec\n",
       "D = 0.54032, p-value = 3.331e-16\n",
       "alternative hypothesis: two-sided\n"
      ]
     },
     "metadata": {},
     "output_type": "display_data"
    }
   ],
   "source": [
    "ks.test(sample1_vec, sample2_vec)"
   ]
  },
  {
   "cell_type": "markdown",
   "metadata": {},
   "source": [
    "Данный тест показал значение $p\\_value < 0.05 \\Rightarrow $ гипотеза однородности отвергается."
   ]
  },
  {
   "cell_type": "markdown",
   "metadata": {},
   "source": [
    "#### Вывод:\n",
    "Оба теста говорят о том, что данные о доходностях распределены не идентично, т.е. они не однородны."
   ]
  },
  {
   "cell_type": "markdown",
   "metadata": {},
   "source": [
    "<h2>\n",
    "<span style=\"color:#6852A3\">\n",
    "Распределение\n",
    "</span>\n",
    "</h2>"
   ]
  },
  {
   "cell_type": "markdown",
   "metadata": {},
   "source": [
    "Попробуем предложить наиболее адекватный тип распределение данных по доходностям.   \n",
    "Для этого воспользуемся функцией `fit.cont()` из библиотеки `rriskDistributions`."
   ]
  },
  {
   "cell_type": "code",
   "execution_count": 70,
   "metadata": {
    "vscode": {
     "languageId": "r"
    }
   },
   "outputs": [
    {
     "name": "stderr",
     "output_type": "stream",
     "text": [
      "\n",
      "Begin fitting distributions ---------------------------------------\n",
      "\n",
      "* fitting normal distribution ... OK\n",
      "\n",
      "* fitting Cauchy  distribution ... OK\n",
      "\n",
      "* fitting logistic distribution ... OK\n",
      "\n",
      "* fitting beta distribution ... failed\n",
      "\n",
      "* fitting exponential distribution ... failed\n",
      "\n",
      "* fitting chi-square distribution ... failed\n",
      "\n",
      "* fitting uniform distribution ... OK\n",
      "\n",
      "* fitting gamma distribution ... failed\n",
      "\n",
      "* fitting lognormal distribution ... failed\n",
      "\n",
      "* fitting Weibull distribution ... failed\n",
      "\n",
      "* fitting F-distribution ... failed\n",
      "\n",
      "* fitting Student's t-distribution ... OK\n",
      "\n",
      "* fitting Gompertz distribution ... failed\n",
      "\n",
      "* fitting triangular distribution ... failed\n",
      "\n",
      "End fitting distributions -----------------------------------------\n",
      "\n",
      "\n"
     ]
    },
    {
     "name": "stdout",
     "output_type": "stream",
     "text": [
      "            logL      AIC      BIC Chisq(value) Chisq(p) AD(value)        H(AD)\n",
      "Normal    587.05 -1170.09 -1162.77        22.94     0.06      0.75 not rejected\n",
      "Cauchy    551.25  -1098.5 -1091.17        67.46     0.00      3.43     rejected\n",
      "Logistic  591.11 -1178.22 -1170.89        19.91     0.13      0.32 not rejected\n",
      "Uniform     NULL     NULL     NULL        62.51     0.00       Inf         NULL\n",
      "Student  -265.13   532.26   535.92      7051.60     0.00    103.46         NULL\n",
      "         KS(value)        H(KS)\n",
      "Normal        0.05 not rejected\n",
      "Cauchy        0.07 not rejected\n",
      "Logistic      0.03 not rejected\n",
      "Uniform       0.11     rejected\n",
      "Student       0.46     rejected\n",
      "Error in title(main = main, sub = sub, xlab = xlab, ylab = ylab, ...) : \n",
      "  не могу найти никаких шрифтов X11\n",
      "Проверьте, правильно ли указан Font Path.\n",
      "\n",
      "Chosen continuous distribution is: Normal (norm)\n",
      "Fitted parameters are: \n",
      "         mean            sd \n",
      "-0.0007790068  0.0315149064 \n",
      "\n"
     ]
    }
   ],
   "source": [
    "fit.cont(data2fit = rates)"
   ]
  },
  {
   "cell_type": "markdown",
   "metadata": {},
   "source": [
    "Тест Колмогорова-Смирнова (**H(KS)** в таблице) не отвергает 3 распределения:\n",
    "- Нормальное\n",
    "- Коши\n",
    "- Логистическое\n",
    "  \n",
    "Тест Андерсона Дарлинга (**H(AD)** в таблице) не отвергает 2 распределения:\n",
    "- Нормальное\n",
    "- Логистическое\n",
    "\n",
    "$p\\_value$ в тесте $\\chi$-квадрат (**Chisq(p)** в таблице) $> 0.05$ для 2 распределений:\n",
    "- Нормальное\n",
    "- Логистическое"
   ]
  },
  {
   "cell_type": "markdown",
   "metadata": {},
   "source": [
    "Взглянем на графики:"
   ]
  },
  {
   "cell_type": "markdown",
   "metadata": {},
   "source": [
    "<img  src=\"norm_distr.png\" ></img>"
   ]
  },
  {
   "cell_type": "markdown",
   "metadata": {},
   "source": [
    "<img  src=\"cauchy_distr.png\" ></img>"
   ]
  },
  {
   "cell_type": "markdown",
   "metadata": {},
   "source": [
    "<img  src=\"logistic_distr.png\" ></img>"
   ]
  },
  {
   "cell_type": "markdown",
   "metadata": {},
   "source": [
    "График распределения Коши имеет более острую вершину. Отклоняем это распределение для наших данных.  \n",
    "Чтобы выбрать наиболее подходящее распределение между Нормальным и Логистическим обратимся к значению критерия Акаике (**AIC** в таблице). Лучшая модель соответствует минимальному значению критерия Акаике. В нашем случае наименьшее значение достигается при Логистической модели распределения, хотя отличия с Нормальным не так существенны."
   ]
  },
  {
   "cell_type": "markdown",
   "metadata": {},
   "source": [
    "#### Вывод:\n",
    "Предложение: данные по доходностям распределены согласно логистическому закону."
   ]
  },
  {
   "cell_type": "markdown",
   "metadata": {},
   "source": [
    "<h2>\n",
    "<span style=\"color:#6852A3\">\n",
    "Метод максимального правдоподобия\n",
    "</span>\n",
    "</h2>"
   ]
  },
  {
   "cell_type": "markdown",
   "metadata": {},
   "source": [
    "С помощью метода максимального правдоподобия оценим параметры предполагаемого распределения (логистическое) по тренировочной части выборки."
   ]
  },
  {
   "cell_type": "code",
   "execution_count": 50,
   "metadata": {
    "vscode": {
     "languageId": "r"
    }
   },
   "outputs": [
    {
     "data": {
      "text/html": [
       "<style>\n",
       ".list-inline {list-style: none; margin:0; padding: 0}\n",
       ".list-inline>li {display: inline-block}\n",
       ".list-inline>li:not(:last-child)::after {content: \"\\00b7\"; padding: 0 .5ex}\n",
       "</style>\n",
       "<ol class=list-inline><li>7</li><li>8</li><li>13</li><li>20</li><li>23</li><li>25</li></ol>\n"
      ],
      "text/latex": [
       "\\begin{enumerate*}\n",
       "\\item 7\n",
       "\\item 8\n",
       "\\item 13\n",
       "\\item 20\n",
       "\\item 23\n",
       "\\item 25\n",
       "\\end{enumerate*}\n"
      ],
      "text/markdown": [
       "1. 7\n",
       "2. 8\n",
       "3. 13\n",
       "4. 20\n",
       "5. 23\n",
       "6. 25\n",
       "\n",
       "\n"
      ],
      "text/plain": [
       "[1]  7  8 13 20 23 25"
      ]
     },
     "metadata": {},
     "output_type": "display_data"
    },
    {
     "data": {
      "text/html": [
       "<table class=\"dataframe\">\n",
       "<caption>A data.frame: 6 × 1</caption>\n",
       "<thead>\n",
       "\t<tr><th></th><th scope=col>train</th></tr>\n",
       "\t<tr><th></th><th scope=col>&lt;dbl&gt;</th></tr>\n",
       "</thead>\n",
       "<tbody>\n",
       "\t<tr><th scope=row>1</th><td>-0.0325317147</td></tr>\n",
       "\t<tr><th scope=row>2</th><td> 0.0005635337</td></tr>\n",
       "\t<tr><th scope=row>3</th><td>-0.0265972358</td></tr>\n",
       "\t<tr><th scope=row>4</th><td> 0.0427546670</td></tr>\n",
       "\t<tr><th scope=row>5</th><td>-0.0567278994</td></tr>\n",
       "\t<tr><th scope=row>6</th><td>-0.0102874481</td></tr>\n",
       "</tbody>\n",
       "</table>\n"
      ],
      "text/latex": [
       "A data.frame: 6 × 1\n",
       "\\begin{tabular}{r|l}\n",
       "  & train\\\\\n",
       "  & <dbl>\\\\\n",
       "\\hline\n",
       "\t1 & -0.0325317147\\\\\n",
       "\t2 &  0.0005635337\\\\\n",
       "\t3 & -0.0265972358\\\\\n",
       "\t4 &  0.0427546670\\\\\n",
       "\t5 & -0.0567278994\\\\\n",
       "\t6 & -0.0102874481\\\\\n",
       "\\end{tabular}\n"
      ],
      "text/markdown": [
       "\n",
       "A data.frame: 6 × 1\n",
       "\n",
       "| <!--/--> | train &lt;dbl&gt; |\n",
       "|---|---|\n",
       "| 1 | -0.0325317147 |\n",
       "| 2 |  0.0005635337 |\n",
       "| 3 | -0.0265972358 |\n",
       "| 4 |  0.0427546670 |\n",
       "| 5 | -0.0567278994 |\n",
       "| 6 | -0.0102874481 |\n",
       "\n"
      ],
      "text/plain": [
       "  train        \n",
       "1 -0.0325317147\n",
       "2  0.0005635337\n",
       "3 -0.0265972358\n",
       "4  0.0427546670\n",
       "5 -0.0567278994\n",
       "6 -0.0102874481"
      ]
     },
     "metadata": {},
     "output_type": "display_data"
    },
    {
     "data": {
      "text/html": [
       "<table class=\"dataframe\">\n",
       "<caption>A data.frame: 6 × 1</caption>\n",
       "<thead>\n",
       "\t<tr><th></th><th scope=col>test</th></tr>\n",
       "\t<tr><th></th><th scope=col>&lt;dbl&gt;</th></tr>\n",
       "</thead>\n",
       "<tbody>\n",
       "\t<tr><th scope=row>1</th><td> 0.00000000</td></tr>\n",
       "\t<tr><th scope=row>2</th><td> 0.03722224</td></tr>\n",
       "\t<tr><th scope=row>3</th><td>-0.02282102</td></tr>\n",
       "\t<tr><th scope=row>4</th><td> 0.03470404</td></tr>\n",
       "\t<tr><th scope=row>5</th><td>-0.02670569</td></tr>\n",
       "\t<tr><th scope=row>6</th><td>-0.02596326</td></tr>\n",
       "</tbody>\n",
       "</table>\n"
      ],
      "text/latex": [
       "A data.frame: 6 × 1\n",
       "\\begin{tabular}{r|l}\n",
       "  & test\\\\\n",
       "  & <dbl>\\\\\n",
       "\\hline\n",
       "\t1 &  0.00000000\\\\\n",
       "\t2 &  0.03722224\\\\\n",
       "\t3 & -0.02282102\\\\\n",
       "\t4 &  0.03470404\\\\\n",
       "\t5 & -0.02670569\\\\\n",
       "\t6 & -0.02596326\\\\\n",
       "\\end{tabular}\n"
      ],
      "text/markdown": [
       "\n",
       "A data.frame: 6 × 1\n",
       "\n",
       "| <!--/--> | test &lt;dbl&gt; |\n",
       "|---|---|\n",
       "| 1 |  0.00000000 |\n",
       "| 2 |  0.03722224 |\n",
       "| 3 | -0.02282102 |\n",
       "| 4 |  0.03470404 |\n",
       "| 5 | -0.02670569 |\n",
       "| 6 | -0.02596326 |\n",
       "\n"
      ],
      "text/plain": [
       "  test       \n",
       "1  0.00000000\n",
       "2  0.03722224\n",
       "3 -0.02282102\n",
       "4  0.03470404\n",
       "5 -0.02670569\n",
       "6 -0.02596326"
      ]
     },
     "metadata": {},
     "output_type": "display_data"
    }
   ],
   "source": [
    "d = sort(sample(nrow(rates_df), nrow(rates_df)*.5))\n",
    "head(d)\n",
    "#select training sample\n",
    "train<-rates[d]\n",
    "test<-rates[-d]\n",
    "\n",
    "head(data.frame(train))\n",
    "head(data.frame(test))"
   ]
  },
  {
   "cell_type": "code",
   "execution_count": 53,
   "metadata": {
    "vscode": {
     "languageId": "r"
    }
   },
   "outputs": [
    {
     "data": {
      "text/plain": [
       "Fitting of the distribution ' logis ' by maximum likelihood \n",
       "Parameters : \n",
       "             estimate  Std. Error\n",
       "location -0.001076471 0.002513532\n",
       "scale     0.017553615 0.001221421\n",
       "Loglikelihood:  292.5624   AIC:  -581.1247   BIC:  -575.1851 \n",
       "Correlation matrix:\n",
       "            location       scale\n",
       "location 1.000000000 0.005448053\n",
       "scale    0.005448053 1.000000000\n"
      ]
     },
     "metadata": {},
     "output_type": "display_data"
    }
   ],
   "source": [
    "fitting_logis <- fitdist(train, distr = \"logis\")\n",
    "summary(fitting_logis)"
   ]
  },
  {
   "cell_type": "markdown",
   "metadata": {},
   "source": [
    "<h2>\n",
    "<span style=\"color:#6852A3\">\n",
    "Гипотеза согласия\n",
    "</span>\n",
    "</h2>"
   ]
  },
  {
   "cell_type": "markdown",
   "metadata": {},
   "source": [
    "#### 1. Тест Колмогорова-Смирнова"
   ]
  },
  {
   "cell_type": "markdown",
   "metadata": {},
   "source": [
    "Проверим гипотезу согласия с полученным ранее распредением с помощью теста Колмогорова-Смирнова.\n",
    "- на тестовой выборке:"
   ]
  },
  {
   "cell_type": "code",
   "execution_count": 68,
   "metadata": {
    "vscode": {
     "languageId": "r"
    }
   },
   "outputs": [
    {
     "data": {
      "text/plain": [
       "\n",
       "\tExact two-sample Kolmogorov-Smirnov test\n",
       "\n",
       "data:  test and fitting_logis$estimate\n",
       "D = 0.53472, p-value = 0.4433\n",
       "alternative hypothesis: two-sided\n"
      ]
     },
     "metadata": {},
     "output_type": "display_data"
    }
   ],
   "source": [
    "ks.test(test, fitting_logis$estimate)"
   ]
  },
  {
   "cell_type": "markdown",
   "metadata": {},
   "source": [
    "- на всей выборке:"
   ]
  },
  {
   "cell_type": "code",
   "execution_count": 69,
   "metadata": {
    "vscode": {
     "languageId": "r"
    }
   },
   "outputs": [
    {
     "data": {
      "text/plain": [
       "\n",
       "\tExact two-sample Kolmogorov-Smirnov test\n",
       "\n",
       "data:  rates and fitting_logis$estimate\n",
       "D = 0.52431, p-value = 0.4577\n",
       "alternative hypothesis: two-sided\n"
      ]
     },
     "metadata": {},
     "output_type": "display_data"
    }
   ],
   "source": [
    "ks.test(rates, fitting_logis$estimate)"
   ]
  },
  {
   "cell_type": "markdown",
   "metadata": {},
   "source": [
    "Гипотеза согласия не отвергается."
   ]
  },
  {
   "cell_type": "markdown",
   "metadata": {},
   "source": [
    "#### 2. Тест $\\chi$-квадрат Пирсона"
   ]
  },
  {
   "cell_type": "markdown",
   "metadata": {},
   "source": [
    "Вспомним, какие параметры для логистического распределения мы получили на тренировочных данных:"
   ]
  },
  {
   "cell_type": "code",
   "execution_count": 140,
   "metadata": {
    "vscode": {
     "languageId": "r"
    }
   },
   "outputs": [
    {
     "data": {
      "text/plain": [
       "Fitting of the distribution ' logis ' by maximum likelihood \n",
       "Parameters:\n",
       "             estimate  Std. Error\n",
       "location -0.001076471 0.002513532\n",
       "scale     0.017553615 0.001221421"
      ]
     },
     "metadata": {},
     "output_type": "display_data"
    }
   ],
   "source": [
    "fitting_logis\n",
    "location <- fitting_logis$estimate[1]\n",
    "scale <- fitting_logis$estimate[2]"
   ]
  }
 ],
 "metadata": {
  "kernelspec": {
   "display_name": "R",
   "language": "R",
   "name": "ir"
  },
  "language_info": {
   "codemirror_mode": "r",
   "file_extension": ".r",
   "mimetype": "text/x-r-source",
   "name": "R",
   "pygments_lexer": "r",
   "version": "4.2.2"
  },
  "vscode": {
   "interpreter": {
    "hash": "e7cb1b9ae4d417fedf7f40a8eec98f7cfbd359e096bd857395a915f4609834ce"
   }
  }
 },
 "nbformat": 4,
 "nbformat_minor": 4
}
